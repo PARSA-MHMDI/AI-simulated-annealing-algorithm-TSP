{
  "nbformat": 4,
  "nbformat_minor": 0,
  "metadata": {
    "colab": {
      "name": "Simulated annealing.ipynb",
      "provenance": [],
      "collapsed_sections": []
    },
    "kernelspec": {
      "name": "python3",
      "display_name": "Python 3"
    },
    "language_info": {
      "name": "python"
    }
  },
  "cells": [
    {
      "cell_type": "markdown",
      "metadata": {
        "id": "QyjUUD0uw2Uz"
      },
      "source": [
        "## **librarires**"
      ]
    },
    {
      "cell_type": "code",
      "metadata": {
        "id": "4iAWLo2htC9o"
      },
      "source": [
        "import numpy as np\n",
        "import random\n",
        "import math\n",
        "import numpy as np\n",
        "from copy import deepcopy\n",
        "from copy import copy\n",
        "import sys\n",
        "import numpy\n",
        "numpy.set_printoptions(threshold=sys.maxsize)\n",
        "import random\n",
        "import matplotlib.pyplot as plt\n",
        "\n",
        "%matplotlib inline"
      ],
      "execution_count": null,
      "outputs": []
    },
    {
      "cell_type": "markdown",
      "metadata": {
        "id": "PSIniZYxtEbZ"
      },
      "source": [
        "## **Load and plot Data**"
      ]
    },
    {
      "cell_type": "code",
      "metadata": {
        "colab": {
          "base_uri": "https://localhost:8080/"
        },
        "id": "J7IIoQ05tDtf",
        "outputId": "4290d742-7efb-4cec-ed65-81d7e3096dbc"
      },
      "source": [
        "with open('/content/drive/MyDrive/Colab Notebooks/AI Class Project 1/qa194.tsp') as f:\n",
        "    file = f.read().split(\"\\n\")\n",
        "    coords = []\n",
        "    for i in file:\n",
        "        a , b, c = i.split()\n",
        "        coords.append([b,c])\n",
        "print(coords)"
      ],
      "execution_count": null,
      "outputs": [
        {
          "output_type": "stream",
          "name": "stdout",
          "text": [
            "[['24748.3333', '50840.0000'], ['24758.8889', '51211.9444'], ['24827.2222', '51394.7222'], ['24904.4444', '51175.0000'], ['24996.1111', '51548.8889'], ['25010.0000', '51039.4444'], ['25030.8333', '51275.2778'], ['25067.7778', '51077.5000'], ['25100.0000', '51516.6667'], ['25103.3333', '51521.6667'], ['25121.9444', '51218.3333'], ['25150.8333', '51537.7778'], ['25158.3333', '51163.6111'], ['25162.2222', '51220.8333'], ['25167.7778', '51606.9444'], ['25168.8889', '51086.3889'], ['25173.8889', '51269.4444'], ['25210.8333', '51394.1667'], ['25211.3889', '51619.1667'], ['25214.1667', '50807.2222'], ['25214.4444', '51378.8889'], ['25223.3333', '51451.6667'], ['25224.1667', '51174.4444'], ['25233.3333', '51333.3333'], ['25234.1667', '51203.0556'], ['25235.5556', '51330.0000'], ['25235.5556', '51495.5556'], ['25242.7778', '51428.8889'], ['25243.0556', '51452.5000'], ['25252.5000', '51559.1667'], ['25253.8889', '51535.2778'], ['25253.8889', '51549.7222'], ['25256.9444', '51398.8889'], ['25263.6111', '51516.3889'], ['25265.8333', '51545.2778'], ['25266.6667', '50969.1667'], ['25266.6667', '51483.3333'], ['25270.5556', '51532.7778'], ['25270.8333', '51505.8333'], ['25270.8333', '51523.0556'], ['25275.8333', '51533.6111'], ['25277.2222', '51547.7778'], ['25278.3333', '51525.5556'], ['25278.3333', '51541.3889'], ['25279.1667', '51445.5556'], ['25281.1111', '51535.0000'], ['25281.3889', '51512.5000'], ['25283.3333', '51533.3333'], ['25283.6111', '51546.6667'], ['25284.7222', '51555.2778'], ['25286.1111', '51504.1667'], ['25286.1111', '51534.1667'], ['25286.6667', '51533.3333'], ['25287.5000', '51537.7778'], ['25288.0556', '51546.6667'], ['25290.8333', '51528.3333'], ['25291.9444', '51424.4444'], ['25292.5000', '51520.8333'], ['25298.6111', '51001.6667'], ['25300.8333', '51394.4444'], ['25306.9444', '51507.7778'], ['25311.9444', '51003.0556'], ['25313.8889', '50883.3333'], ['25315.2778', '51438.6111'], ['25316.6667', '50766.6667'], ['25320.5556', '51495.5556'], ['25322.5000', '51507.7778'], ['25325.2778', '51470.0000'], ['25326.6667', '51350.2778'], ['25337.5000', '51425.0000'], ['25339.1667', '51173.3333'], ['25340.5556', '51293.6111'], ['25341.9444', '51507.5000'], ['25358.8889', '51333.6111'], ['25363.6111', '51281.1111'], ['25368.6111', '51226.3889'], ['25374.4444', '51436.6667'], ['25377.7778', '51294.7222'], ['25396.9444', '51422.5000'], ['25400.0000', '51183.3333'], ['25400.0000', '51425.0000'], ['25404.7222', '51073.0556'], ['25416.9444', '51403.8889'], ['25416.9444', '51457.7778'], ['25419.4444', '50793.6111'], ['25429.7222', '50785.8333'], ['25433.3333', '51220.0000'], ['25440.8333', '51378.0556'], ['25444.4444', '50958.3333'], ['25451.3889', '50925.0000'], ['25459.1667', '51316.6667'], ['25469.7222', '51397.5000'], ['25478.0556', '51362.5000'], ['25480.5556', '50938.8889'], ['25483.3333', '51383.3333'], ['25490.5556', '51373.6111'], ['25492.2222', '51400.2778'], ['25495.0000', '50846.6667'], ['25495.0000', '50965.2778'], ['25497.5000', '51485.2778'], ['25500.8333', '50980.5556'], ['25510.5556', '51242.2222'], ['25531.9444', '51304.4444'], ['25533.3333', '50977.2222'], ['25538.8889', '51408.3333'], ['25545.8333', '51387.5000'], ['25549.7222', '51431.9444'], ['25550.0000', '51433.3333'], ['25560.2778', '51158.6111'], ['25566.9444', '51484.7222'], ['25567.5000', '50958.8889'], ['25574.7222', '51486.3889'], ['25585.5556', '51151.3889'], ['25609.4444', '51092.2222'], ['25610.2778', '51475.2778'], ['25622.5000', '51454.4444'], ['25645.8333', '51450.0000'], ['25650.0000', '51372.2222'], ['25666.9444', '51174.4444'], ['25683.8889', '51505.8333'], ['25686.3889', '51468.8889'], ['25696.1111', '51260.8333'], ['25700.8333', '51584.7222'], ['25708.3333', '51591.6667'], ['25716.6667', '51050.0000'], ['25717.5000', '51057.7778'], ['25723.0556', '51004.1667'], ['25734.7222', '51547.5000'], ['25751.1111', '51449.1667'], ['25751.9444', '50920.8333'], ['25758.3333', '51395.8333'], ['25765.2778', '51019.7222'], ['25772.2222', '51483.3333'], ['25775.8333', '51023.0556'], ['25779.1667', '51449.7222'], ['25793.3333', '51409.4444'], ['25808.3333', '51060.5556'], ['25816.6667', '51133.3333'], ['25823.6111', '51152.5000'], ['25826.6667', '51043.8889'], ['25829.7222', '51245.2778'], ['25833.3333', '51072.2222'], ['25839.1667', '51465.2778'], ['25847.7778', '51205.8333'], ['25850.0000', '51033.3333'], ['25856.6667', '51083.3333'], ['25857.5000', '51298.8889'], ['25857.5000', '51441.3889'], ['25866.6667', '51066.6667'], ['25867.7778', '51205.5556'], ['25871.9444', '51354.7222'], ['25872.5000', '51258.3333'], ['25880.8333', '51221.3889'], ['25883.0556', '51185.2778'], ['25888.0556', '51386.3889'], ['25900.0000', '51000.0000'], ['25904.1667', '51201.6667'], ['25928.3333', '51337.5000'], ['25937.5000', '51313.3333'], ['25944.7222', '51456.3889'], ['25950.0000', '51066.6667'], ['25951.6667', '51349.7222'], ['25957.7778', '51075.2778'], ['25958.3333', '51099.4444'], ['25966.6667', '51283.3333'], ['25983.3333', '51400.0000'], ['25983.6111', '51328.0556'], ['26000.2778', '51294.4444'], ['26008.6111', '51083.6111'], ['26016.6667', '51333.3333'], ['26021.6667', '51366.9444'], ['26033.3333', '51116.6667'], ['26033.3333', '51166.6667'], ['26033.6111', '51163.8889'], ['26033.6111', '51200.2778'], ['26048.8889', '51056.9444'], ['26050.0000', '51250.0000'], ['26050.2778', '51297.5000'], ['26050.5556', '51135.8333'], ['26055.0000', '51316.1111'], ['26067.2222', '51258.6111'], ['26074.7222', '51083.6111'], ['26076.6667', '51166.9444'], ['26077.2222', '51222.2222'], ['26078.0556', '51361.6667'], ['26083.6111', '51147.2222'], ['26099.7222', '51161.1111'], ['26108.0556', '51244.7222'], ['26116.6667', '51216.6667'], ['26123.6111', '51169.1667'], ['26123.6111', '51222.7778'], ['26133.3333', '51216.6667'], ['26133.3333', '51300.0000'], ['26150.2778', '51108.0556']]\n"
          ]
        }
      ]
    },
    {
      "cell_type": "markdown",
      "metadata": {
        "id": "mkD9Zdt1FWpg"
      },
      "source": [
        "## defind SA class"
      ]
    },
    {
      "cell_type": "code",
      "metadata": {
        "id": "5uzND7N3rnrK"
      },
      "source": [
        "\n",
        "class SimAnneal(object):\n",
        "    def __init__(self, coords):\n",
        "        self.coords = coords\n",
        "        self.N = len(coords)\n",
        "        self.T = math.sqrt(self.N)\n",
        "        self.factor = 0.99\n",
        "        self.cost_value = []\n",
        "        self.best_cost = float(\"Inf\")\n",
        "        self.nodes = [i for i in range(self.N)]\n",
        "        self.best_solution = None\n",
        "                  \n",
        "\n",
        "    def initial_solution(self):\n",
        "        \"\"\"\n",
        "        This function makes initial solution\n",
        "        \"\"\"\n",
        "        current_node = random.choice(self.nodes)  # In ths line of code a node randomly choosed\n",
        "        solution = [current_node]\n",
        "\n",
        "        free_nodes = set(self.nodes)\n",
        "        free_nodes.remove(current_node)\n",
        "        while free_nodes:\n",
        "            next_node = min(free_nodes, key=lambda x: self.dist(current_node, x))  # nearest neighbour\n",
        "            free_nodes.remove(next_node)\n",
        "            solution.append(next_node)\n",
        "            current_node = next_node\n",
        "\n",
        "        current_cost = self.cost(solution)\n",
        "        if current_cost < self.best_cost:  # If best found so far, update best cost\n",
        "            self.best_cost = current_cost\n",
        "            self.best_solution = solution\n",
        "        self.cost_value.append(current_cost)\n",
        "        return solution, current_cost\n",
        "\n",
        "    def dist(self, point1, point2):\n",
        "      \"\"\"\n",
        "      this fuction computs disance between to point\n",
        "      \"\"\"\n",
        "\n",
        "      coord0, coord1 = self.coords[point1], self.coords[point2]\n",
        "\n",
        "      dis = np.sqrt(np.square(float(coord0[0]) - float(coord1[0]))+ np.square(float(coord0[1]) - float(coord1[1])))\n",
        "\n",
        "      return dis\n",
        "        \n",
        "\n",
        "    def cost(self, solution):\n",
        "        \"\"\"\n",
        "        This function computes road length\n",
        "        \"\"\"\n",
        "        current_cost = 0\n",
        "        for i in range(self.N):\n",
        "            current_cost += self.dist(solution[i % self.N], solution[(i + 1) % self.N])\n",
        "        return current_cost\n",
        "\n",
        "    def find_neighbour(self):\n",
        "      \"\"\"\n",
        "      this fuction finds neighbor\n",
        "      \"\"\"\n",
        "      neighbour = list(self.current_solution)\n",
        "      l = random.randint(2, self.N - 1)\n",
        "      i = random.randint(0, self.N - l)\n",
        "      neighbour[i : (i + l)] = reversed(neighbour[i : (i + l)])\n",
        "\n",
        "      return neighbour\n",
        "\n",
        "\n",
        "    def SA(self):\n",
        "\n",
        "        self.current_solution, self.current_cost = self.initial_solution() #make Initial solutaion\n",
        "\n",
        "        for i in range(5000):\n",
        "\n",
        "            neighbour = self.find_neighbour()\n",
        "            neighbour_cost = self.cost(neighbour)\n",
        "\n",
        "\n",
        "            if neighbour_cost < self.current_cost:\n",
        "              self.current_cost, self.current_solution = neighbour_cost, neighbour\n",
        "            if neighbour_cost < self.best_cost:\n",
        "                self.best_cost, self.best_solution = neighbour_cost, neighbour\n",
        "            else:\n",
        "              if random.random() < np.exp(-(neighbour_cost - self.current_cost) / self.T):\n",
        "                self.current_cost, self.current_solution = neighbour_cost, neighbour\n",
        "\n",
        "\n",
        "            self.T *= self.factor # updating Tempreture\n",
        "\n",
        "            self.cost_value.append(self.current_cost) # add cost value to this to plot it\n",
        "\n",
        "        print(f\"Best cost is: {self.best_cost}\")\n",
        "       \n",
        "    def plot_figure(self):\n",
        "        plt.plot([i for i in range(len(self.cost_value))], self.cost_value, \"black\")\n",
        "        plt.ylabel(\"cost\")\n",
        "        plt.xlabel(\"Iteration\")\n",
        "        plt.show()"
      ],
      "execution_count": null,
      "outputs": []
    },
    {
      "cell_type": "code",
      "metadata": {
        "colab": {
          "base_uri": "https://localhost:8080/",
          "height": 296
        },
        "id": "vDChD4nxuAm3",
        "outputId": "302fc781-fd11-49ca-9881-e35f5ddcf64b"
      },
      "source": [
        "if __name__ == \"__main__\":\n",
        "    sa = SimAnneal(coords)\n",
        "    sa.SA()\n",
        "    sa.plot_figure()\n",
        "    "
      ],
      "execution_count": null,
      "outputs": [
        {
          "output_type": "stream",
          "name": "stdout",
          "text": [
            "Best cost is: 11110.109587945873\n"
          ]
        },
        {
          "output_type": "display_data",
          "data": {
            "image/png": "[encoded data removed]",
            "text/plain": [
              "<Figure size 432x288 with 1 Axes>"
            ]
          },
          "metadata": {
            "needs_background": "light"
          }
        }
      ]
    },
    {
      "cell_type": "code",
      "metadata": {
        "id": "AkD_eELXGl85"
      },
      "source": [
        ""
      ],
      "execution_count": null,
      "outputs": []
    }
  ]
}